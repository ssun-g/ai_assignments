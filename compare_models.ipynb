{
 "cells": [
  {
   "cell_type": "markdown",
   "id": "b5c01b77-ccb7-47c9-8c86-92f99967977b",
   "metadata": {},
   "source": [
    "# Library"
   ]
  },
  {
   "cell_type": "code",
   "execution_count": 1,
   "id": "b4e20b8c-c4e0-442d-8253-ba2d8968f8a1",
   "metadata": {
    "tags": []
   },
   "outputs": [],
   "source": [
    "import random\n",
    "\n",
    "import numpy as np\n",
    "\n",
    "import tqdm\n",
    "\n",
    "import torch\n",
    "from torch.utils.data import Dataset, DataLoader\n",
    "from torchvision import transforms\n",
    "from torchvision.datasets import ImageFolder\n",
    "\n",
    "from sklearn.metrics import f1_score\n",
    "\n",
    "import onnxruntime as ort\n",
    "\n",
    "from utils.model import ConvNet"
   ]
  },
  {
   "cell_type": "markdown",
   "id": "6aadd0aa-40cd-4974-8cc7-db9d68e3ddba",
   "metadata": {},
   "source": [
    "# Config"
   ]
  },
  {
   "cell_type": "code",
   "execution_count": 2,
   "id": "4da17d9f-d73a-4375-b4bd-7fa25469b028",
   "metadata": {
    "tags": []
   },
   "outputs": [],
   "source": [
    "CFG = {'seed': 42,\n",
    "       'bs': 16,\n",
    "       'mean': (0.485, 0.456, 0.406),\n",
    "       'std': (0.229, 0.224, 0.225)}"
   ]
  },
  {
   "cell_type": "markdown",
   "id": "e23108f1-e83e-4638-a414-2da9228ac33e",
   "metadata": {},
   "source": [
    "# Fix Seed"
   ]
  },
  {
   "cell_type": "code",
   "execution_count": 3,
   "id": "f772bbd4-dbb0-411a-98f9-58c5b1b504a7",
   "metadata": {
    "tags": []
   },
   "outputs": [],
   "source": [
    "def seed_everything(seed):\n",
    "    torch.manual_seed(seed)\n",
    "    torch.cuda.manual_seed(seed)\n",
    "    torch.cuda.manual_seed_all(seed)  # if use multi-GPU\n",
    "    torch.backends.cudnn.deterministic = True\n",
    "    torch.backends.cudnn.benchmark = False\n",
    "    np.random.seed(seed)\n",
    "    random.seed(seed)\n",
    "\n",
    "seed_everything(CFG['seed'])"
   ]
  },
  {
   "cell_type": "markdown",
   "id": "2f94e44f-d35f-479a-a287-59d7f2df3a05",
   "metadata": {},
   "source": [
    "# Data"
   ]
  },
  {
   "cell_type": "code",
   "execution_count": 4,
   "id": "59330546-c29d-4f10-a19e-897ea303e510",
   "metadata": {
    "tags": []
   },
   "outputs": [],
   "source": [
    "transform = transforms.Compose([\n",
    "    transforms.Resize((64, 64)),\n",
    "    transforms.ToTensor(),\n",
    "    transforms.Normalize(mean=CFG['mean'], std=CFG['std'])\n",
    "])"
   ]
  },
  {
   "cell_type": "code",
   "execution_count": 5,
   "id": "8d2134bc-c56f-4015-aa11-bc752343f24b",
   "metadata": {
    "tags": []
   },
   "outputs": [],
   "source": [
    "dataset = ImageFolder('./data/train/', transform=transform)\n",
    "dataloader = DataLoader(dataset,\n",
    "                        batch_size=CFG['bs'],\n",
    "                        shuffle=False)"
   ]
  },
  {
   "cell_type": "markdown",
   "id": "6b3a147c-92fb-40ca-bf1d-e13f450e47e2",
   "metadata": {},
   "source": [
    "# 모델 성능 비교"
   ]
  },
  {
   "cell_type": "markdown",
   "id": "35ac81f8-6a92-4b98-b211-f00a936be392",
   "metadata": {},
   "source": [
    "### Pytorch 모델"
   ]
  },
  {
   "cell_type": "code",
   "execution_count": 6,
   "id": "38e7efa9-1158-471d-9b01-2ca009998c9b",
   "metadata": {
    "tags": []
   },
   "outputs": [
    {
     "data": {
      "text/plain": [
       "<All keys matched successfully>"
      ]
     },
     "execution_count": 6,
     "metadata": {},
     "output_type": "execute_result"
    }
   ],
   "source": [
    "model = ConvNet(num_classes=3)\n",
    "model.load_state_dict(torch.load(\"./checkpoints/fine_tuned_conv_net.pth\", map_location=\"cpu\", weights_only=True))"
   ]
  },
  {
   "cell_type": "code",
   "execution_count": 7,
   "id": "e5ecbca3-1021-4e19-8687-e8a30e0ca0ad",
   "metadata": {
    "tags": []
   },
   "outputs": [
    {
     "name": "stderr",
     "output_type": "stream",
     "text": [
      "100%|███████████████████████████████████████████████████████████████████████████████████████████████| 19/19 [00:00<00:00, 40.56it/s]\n"
     ]
    }
   ],
   "source": [
    "model.eval()\n",
    "all_preds = []\n",
    "all_labels = []\n",
    "\n",
    "with torch.no_grad():\n",
    "    for inputs, labels in tqdm.tqdm(dataloader):\n",
    "        outputs, _ = model(inputs)\n",
    "        _, preds = torch.max(outputs, 1)\n",
    "        \n",
    "        all_preds.extend(preds.detach().cpu().numpy())\n",
    "        all_labels.extend(labels.detach().cpu().numpy())\n",
    "        \n",
    "    pytorch_f1_score = f1_score(all_labels, all_preds, average='macro')"
   ]
  },
  {
   "cell_type": "markdown",
   "id": "9919b05f-fe88-407a-a4f3-879435a1b893",
   "metadata": {},
   "source": [
    "### ONNX 변환 모델"
   ]
  },
  {
   "cell_type": "code",
   "execution_count": 8,
   "id": "add01913-0f5d-49a5-b389-96abe90366c3",
   "metadata": {},
   "outputs": [
    {
     "name": "stderr",
     "output_type": "stream",
     "text": [
      "100%|███████████████████████████████████████████████████████████████████████████████████████████████| 19/19 [00:00<00:00, 24.23it/s]\n"
     ]
    }
   ],
   "source": [
    "session_fp32 = ort.InferenceSession(\"./checkpoints/conv_net.onnx\", providers=['CPUExecutionProvider'])\n",
    "all_onnx_preds = []\n",
    "\n",
    "for inputs, _ in tqdm.tqdm(dataloader):\n",
    "    inputs_np = inputs.numpy()\n",
    "    ort_inputs = {\"input\": inputs_np}\n",
    "    \n",
    "    onnx_outs = session_fp32.run(None, ort_inputs)\n",
    "    onnx_preds = np.argmax(onnx_outs[0], axis=1)\n",
    "    all_onnx_preds.extend(onnx_preds)\n",
    "\n",
    "onnx_f1_score = f1_score(all_labels, all_onnx_preds, average='macro')"
   ]
  },
  {
   "cell_type": "markdown",
   "id": "911c0a10-f3bb-4def-acd4-a3a2dc3d8b98",
   "metadata": {},
   "source": [
    "### INT8 양자화 모델"
   ]
  },
  {
   "cell_type": "code",
   "execution_count": 9,
   "id": "8c2898f8-f1d0-466e-b517-40c3e3993755",
   "metadata": {},
   "outputs": [
    {
     "name": "stderr",
     "output_type": "stream",
     "text": [
      "100%|███████████████████████████████████████████████████████████████████████████████████████████████| 19/19 [00:02<00:00,  8.76it/s]\n"
     ]
    }
   ],
   "source": [
    "int8_session = ort.InferenceSession(\"./checkpoints/conv_net_int8.onnx\", providers=[\"CPUExecutionProvider\"])\n",
    "all_int8_preds = []\n",
    "\n",
    "for inputs, _ in tqdm.tqdm(dataloader):\n",
    "    inputs_np = inputs.numpy()\n",
    "    ort_inputs = {\"input\": inputs_np}\n",
    "    \n",
    "    int8_outs = int8_session.run(None, ort_inputs)\n",
    "    int8_preds = np.argmax(int8_outs[0], axis=1)\n",
    "    all_int8_preds.extend(int8_preds)\n",
    "    \n",
    "int8_f1_score = f1_score(all_labels, all_int8_preds, average='macro')"
   ]
  },
  {
   "cell_type": "markdown",
   "id": "cb50ec1e-d87b-400b-aca8-a8089cb11273",
   "metadata": {},
   "source": [
    "### 결과 비교"
   ]
  },
  {
   "cell_type": "code",
   "execution_count": 10,
   "id": "ca04d246-c56c-4c48-9a0a-7991e24585ca",
   "metadata": {},
   "outputs": [
    {
     "name": "stdout",
     "output_type": "stream",
     "text": [
      "Pytorch model's F1-Score: 1.0\n",
      "ONNX model's F1-Score: 1.0\n",
      "INT8 model's F1-Score: 1.0\n"
     ]
    }
   ],
   "source": [
    "print(f\"Pytorch model's F1-Score: {pytorch_f1_score}\")\n",
    "print(f\"ONNX model's F1-Score: {onnx_f1_score}\")\n",
    "print(f\"INT8 model's F1-Score: {int8_f1_score}\")"
   ]
  },
  {
   "cell_type": "code",
   "execution_count": null,
   "id": "be618c95-f463-42d2-919a-0f13bc0bf546",
   "metadata": {},
   "outputs": [],
   "source": []
  }
 ],
 "metadata": {
  "kernelspec": {
   "display_name": "ffff",
   "language": "python",
   "name": "ffff"
  },
  "language_info": {
   "codemirror_mode": {
    "name": "ipython",
    "version": 3
   },
   "file_extension": ".py",
   "mimetype": "text/x-python",
   "name": "python",
   "nbconvert_exporter": "python",
   "pygments_lexer": "ipython3",
   "version": "3.10.18"
  }
 },
 "nbformat": 4,
 "nbformat_minor": 5
}
